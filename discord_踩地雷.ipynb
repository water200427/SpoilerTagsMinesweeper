{
  "nbformat": 4,
  "nbformat_minor": 0,
  "metadata": {
    "colab": {
      "name": "discord 踩地雷",
      "provenance": [],
      "authorship_tag": "ABX9TyOApSNWJfJRw3UDtT1jiVtJ",
      "include_colab_link": true
    },
    "kernelspec": {
      "name": "python3",
      "display_name": "Python 3"
    },
    "language_info": {
      "name": "python"
    }
  },
  "cells": [
    {
      "cell_type": "markdown",
      "metadata": {
        "id": "view-in-github",
        "colab_type": "text"
      },
      "source": [
        "<a href=\"https://colab.research.google.com/github/water200427/SpoilerTagsMinesweeper/blob/main/discord_%E8%B8%A9%E5%9C%B0%E9%9B%B7.ipynb\" target=\"_parent\"><img src=\"https://colab.research.google.com/assets/colab-badge.svg\" alt=\"Open In Colab\"/></a>"
      ]
    },
    {
      "cell_type": "markdown",
      "metadata": {
        "id": "sPF90OODUVs6"
      },
      "source": [
        "\n",
        "Minesweeper "
      ]
    },
    {
      "cell_type": "code",
      "metadata": {
        "id": "9pVGIO5LZz8m"
      },
      "source": [
        "import random\n",
        "import numpy as np\n"
      ],
      "execution_count": null,
      "outputs": []
    },
    {
      "cell_type": "code",
      "metadata": {
        "id": "fnWSKoYDUXp3"
      },
      "source": [
        "m, n = 5, 5 #size of board\n",
        "mineNumber = 5 \n",
        "#mineNumber = int( (lambda x:2.575e-04*x**2+0.0738*x+4.2198)(m*n)) #9x9:10, 16x16:40, 30x16:99\n",
        "#mineNumber = int( (lambda x:2.3e-04*x**2+0.1*x+0.9)(m*n) )"
      ],
      "execution_count": null,
      "outputs": []
    },
    {
      "cell_type": "code",
      "metadata": {
        "id": "J8EKF1cNiDZj",
        "colab": {
          "base_uri": "https://localhost:8080/"
        },
        "outputId": "1f149d98-eba7-4e67-940c-4c9b7b846515"
      },
      "source": [
        "board = np.zeros((m,n),dtype='int8')\n",
        "mineList = random.sample(range(m*n),mineNumber)\n",
        "for i in range(m):\n",
        "  for j in range(n):\n",
        "    if (i*n+j) in mineList:\n",
        "      board[i][j] = -1\n",
        "expandBoard = np.zeros((m+2,n+2),dtype='int8')\n",
        "for i in range(m):\n",
        "  for j in range(n):\n",
        "    if i*n+j in mineList:\n",
        "      expandBoard[i+1][j+1] = -1\n",
        "for i in range(m):\n",
        "  for j in range(n):\n",
        "    if board[i][j] != -1:\n",
        "      countMinesNeighborhood = 0\n",
        "      if expandBoard[i][j] == -1:\n",
        "        countMinesNeighborhood += 1\n",
        "      if expandBoard[i][j+1] == -1:\n",
        "        countMinesNeighborhood += 1\n",
        "      if expandBoard[i][j+2] == -1:\n",
        "        countMinesNeighborhood += 1\n",
        "      if expandBoard[i+1][j] == -1:\n",
        "        countMinesNeighborhood += 1\n",
        "      if expandBoard[i+1][j+2] == -1:\n",
        "        countMinesNeighborhood += 1\n",
        "      if expandBoard[i+2][j] == -1:\n",
        "        countMinesNeighborhood += 1\n",
        "      if expandBoard[i+2][j+1] == -1:\n",
        "        countMinesNeighborhood += 1\n",
        "      if expandBoard[i+2][j+2] == -1:\n",
        "        countMinesNeighborhood += 1\n",
        "      board[i][j] = countMinesNeighborhood\n",
        "    \n",
        "print('踩地雷-找出所有的○吧~')\n",
        "print('大小:',m,'x',n)\n",
        "print('㊥: 炸彈(共',mineNumber,'顆)\\n①, ②, ③,...: 鄰近的炸彈數\\n○:安全格')\n",
        "for i in range(m):\n",
        "  text = ''\n",
        "  for j in range(n):    \n",
        "    if board[i][j] == -1:\n",
        "      text = text + '|| ㊥ ||   '\n",
        "    elif board[i][j] == 0:\n",
        "      text = text + '|| ○ ||   '\n",
        "    elif board[i][j] == 1:\n",
        "      text = text + '|| ① ||   '\n",
        "    elif board[i][j] == 2:\n",
        "      text = text + '|| ② ||   '\n",
        "    elif board[i][j] == 3:\n",
        "      text = text + '|| ③ ||   '\n",
        "    elif board[i][j] == 4:\n",
        "      text = text + '|| ④ ||   '\n",
        "    elif board[i][j] == 5:\n",
        "      text = text + '|| ⑤ ||   '\n",
        "    elif board[i][j] == 6:\n",
        "      text = text + '|| ⑥ ||   '\n",
        "    elif board[i][j] == 7:\n",
        "      text = text + '|| ⑦ ||   '\n",
        "    elif board[i][j] == 8:\n",
        "      text = text + '|| ⑧ ||   '\n",
        "      \n",
        "    else:\n",
        "      text = text + '|| '+ str(board[i][j]) + ' ||   '\n",
        "  print(text)"
      ],
      "execution_count": null,
      "outputs": [
        {
          "output_type": "stream",
          "text": [
            "踩地雷-找出所有的○吧~\n",
            "大小: 5 x 5\n",
            "㊥: 炸彈(共 5 顆)\n",
            "①, ②, ③,...: 鄰近的炸彈數\n",
            "○:安全格\n",
            "|| ㊥ ||   || ② ||   || ① ||   || ① ||   || ○ ||   \n",
            "|| ① ||   || ② ||   || ㊥ ||   || ② ||   || ① ||   \n",
            "|| ① ||   || ③ ||   || ③ ||   || ③ ||   || ㊥ ||   \n",
            "|| ① ||   || ㊥ ||   || ㊥ ||   || ② ||   || ① ||   \n",
            "|| ① ||   || ② ||   || ② ||   || ① ||   || ○ ||   \n"
          ],
          "name": "stdout"
        }
      ]
    }
  ]
}
